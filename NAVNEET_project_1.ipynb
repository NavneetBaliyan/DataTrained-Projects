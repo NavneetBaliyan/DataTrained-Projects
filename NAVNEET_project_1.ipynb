{
 "cells": [
  {
   "cell_type": "code",
   "execution_count": 17,
   "metadata": {},
   "outputs": [
    {
     "name": "stdout",
     "output_type": "stream",
     "text": [
      "Requirement already satisfied: mysql-connector-python in c:\\users\\mephist0pheles\\anaconda3\\lib\\site-packages (8.0.17)\n",
      "Requirement already satisfied: protobuf>=3.0.0 in c:\\users\\mephist0pheles\\anaconda3\\lib\\site-packages (from mysql-connector-python) (3.10.0)\n",
      "Requirement already satisfied: setuptools in c:\\users\\mephist0pheles\\anaconda3\\lib\\site-packages (from protobuf>=3.0.0->mysql-connector-python) (41.0.1)\n",
      "Requirement already satisfied: six>=1.9 in c:\\users\\mephist0pheles\\anaconda3\\lib\\site-packages (from protobuf>=3.0.0->mysql-connector-python) (1.12.0)\n"
     ]
    }
   ],
   "source": [
    "!pip install mysql-connector-python"
   ]
  },
  {
   "cell_type": "code",
   "execution_count": 18,
   "metadata": {},
   "outputs": [],
   "source": [
    "import mysql.connector"
   ]
  },
  {
   "cell_type": "code",
   "execution_count": 21,
   "metadata": {},
   "outputs": [],
   "source": [
    "con=mysql.connector.connect(\n",
    "host=\"127.0.0.1\",\n",
    "port=3306,\n",
    "user=\"root\",\n",
    "password=\"Ganimanu1998@\",\n",
    "database=\"studentmarks\")\n"
   ]
  },
  {
   "cell_type": "code",
   "execution_count": 24,
   "metadata": {},
   "outputs": [],
   "source": [
    "\n",
    "import pandas as pd\n",
    "df=pd.read_sql_query(\"select * from studentmarks1\",con)"
   ]
  },
  {
   "cell_type": "code",
   "execution_count": 25,
   "metadata": {},
   "outputs": [
    {
     "data": {
      "text/html": [
       "<div>\n",
       "<style scoped>\n",
       "    .dataframe tbody tr th:only-of-type {\n",
       "        vertical-align: middle;\n",
       "    }\n",
       "\n",
       "    .dataframe tbody tr th {\n",
       "        vertical-align: top;\n",
       "    }\n",
       "\n",
       "    .dataframe thead th {\n",
       "        text-align: right;\n",
       "    }\n",
       "</style>\n",
       "<table border=\"1\" class=\"dataframe\">\n",
       "  <thead>\n",
       "    <tr style=\"text-align: right;\">\n",
       "      <th></th>\n",
       "      <th>Name</th>\n",
       "      <th>DOB</th>\n",
       "      <th>Geneder</th>\n",
       "      <th>Maths</th>\n",
       "      <th>English</th>\n",
       "      <th>physics</th>\n",
       "      <th>chemistry</th>\n",
       "      <th>biology</th>\n",
       "      <th>History</th>\n",
       "      <th>civics</th>\n",
       "      <th>Economics</th>\n",
       "    </tr>\n",
       "  </thead>\n",
       "  <tbody>\n",
       "    <tr>\n",
       "      <th>0</th>\n",
       "      <td></td>\n",
       "      <td>None</td>\n",
       "      <td>None</td>\n",
       "      <td>NaN</td>\n",
       "      <td>NaN</td>\n",
       "      <td>NaN</td>\n",
       "      <td>NaN</td>\n",
       "      <td>NaN</td>\n",
       "      <td>NaN</td>\n",
       "      <td>NaN</td>\n",
       "      <td>NaN</td>\n",
       "    </tr>\n",
       "    <tr>\n",
       "      <th>1</th>\n",
       "      <td>John</td>\n",
       "      <td>None</td>\n",
       "      <td>M</td>\n",
       "      <td>55.0</td>\n",
       "      <td>45.0</td>\n",
       "      <td>56.0</td>\n",
       "      <td>87.0</td>\n",
       "      <td>21.0</td>\n",
       "      <td>52.0</td>\n",
       "      <td>89.0</td>\n",
       "      <td>65.0</td>\n",
       "    </tr>\n",
       "    <tr>\n",
       "      <th>2</th>\n",
       "      <td>Suresh</td>\n",
       "      <td>None</td>\n",
       "      <td>M</td>\n",
       "      <td>75.0</td>\n",
       "      <td>96.0</td>\n",
       "      <td>78.0</td>\n",
       "      <td>64.0</td>\n",
       "      <td>90.0</td>\n",
       "      <td>61.0</td>\n",
       "      <td>58.0</td>\n",
       "      <td>2.0</td>\n",
       "    </tr>\n",
       "    <tr>\n",
       "      <th>3</th>\n",
       "      <td>Ramesh</td>\n",
       "      <td>None</td>\n",
       "      <td>M</td>\n",
       "      <td>25.0</td>\n",
       "      <td>54.0</td>\n",
       "      <td>89.0</td>\n",
       "      <td>76.0</td>\n",
       "      <td>95.0</td>\n",
       "      <td>87.0</td>\n",
       "      <td>56.0</td>\n",
       "      <td>74.0</td>\n",
       "    </tr>\n",
       "    <tr>\n",
       "      <th>4</th>\n",
       "      <td>Jessica</td>\n",
       "      <td>None</td>\n",
       "      <td>F</td>\n",
       "      <td>78.0</td>\n",
       "      <td>96.0</td>\n",
       "      <td>86.0</td>\n",
       "      <td>63.0</td>\n",
       "      <td>54.0</td>\n",
       "      <td>89.0</td>\n",
       "      <td>75.0</td>\n",
       "      <td>45.0</td>\n",
       "    </tr>\n",
       "    <tr>\n",
       "      <th>5</th>\n",
       "      <td>Jennifer</td>\n",
       "      <td>None</td>\n",
       "      <td>F</td>\n",
       "      <td>58.0</td>\n",
       "      <td>96.0</td>\n",
       "      <td>78.0</td>\n",
       "      <td>46.0</td>\n",
       "      <td>96.0</td>\n",
       "      <td>77.0</td>\n",
       "      <td>83.0</td>\n",
       "      <td>53.0</td>\n",
       "    </tr>\n",
       "    <tr>\n",
       "      <th>6</th>\n",
       "      <td>Annu</td>\n",
       "      <td>None</td>\n",
       "      <td>F</td>\n",
       "      <td>45.0</td>\n",
       "      <td>87.0</td>\n",
       "      <td>52.0</td>\n",
       "      <td>89.0</td>\n",
       "      <td>55.0</td>\n",
       "      <td>89.0</td>\n",
       "      <td>87.0</td>\n",
       "      <td>52.0</td>\n",
       "    </tr>\n",
       "    <tr>\n",
       "      <th>7</th>\n",
       "      <td>pooja</td>\n",
       "      <td>None</td>\n",
       "      <td>F</td>\n",
       "      <td>55.0</td>\n",
       "      <td>64.0</td>\n",
       "      <td>61.0</td>\n",
       "      <td>58.0</td>\n",
       "      <td>75.0</td>\n",
       "      <td>58.0</td>\n",
       "      <td>64.0</td>\n",
       "      <td>61.0</td>\n",
       "    </tr>\n",
       "    <tr>\n",
       "      <th>8</th>\n",
       "      <td>Ritesh</td>\n",
       "      <td>None</td>\n",
       "      <td>M</td>\n",
       "      <td>54.0</td>\n",
       "      <td>76.0</td>\n",
       "      <td>87.0</td>\n",
       "      <td>56.0</td>\n",
       "      <td>25.0</td>\n",
       "      <td>56.0</td>\n",
       "      <td>76.0</td>\n",
       "      <td>87.0</td>\n",
       "    </tr>\n",
       "    <tr>\n",
       "      <th>9</th>\n",
       "      <td>Farha</td>\n",
       "      <td>None</td>\n",
       "      <td>F</td>\n",
       "      <td>55.0</td>\n",
       "      <td>63.0</td>\n",
       "      <td>89.0</td>\n",
       "      <td>75.0</td>\n",
       "      <td>78.0</td>\n",
       "      <td>75.0</td>\n",
       "      <td>63.0</td>\n",
       "      <td>89.0</td>\n",
       "    </tr>\n",
       "    <tr>\n",
       "      <th>10</th>\n",
       "      <td>Mukesh</td>\n",
       "      <td>None</td>\n",
       "      <td>M</td>\n",
       "      <td>96.0</td>\n",
       "      <td>46.0</td>\n",
       "      <td>77.0</td>\n",
       "      <td>83.0</td>\n",
       "      <td>58.0</td>\n",
       "      <td>83.0</td>\n",
       "      <td>46.0</td>\n",
       "      <td>77.0</td>\n",
       "    </tr>\n",
       "  </tbody>\n",
       "</table>\n",
       "</div>"
      ],
      "text/plain": [
       "        Name   DOB Geneder  Maths  English  physics  chemistry  biology  \\\n",
       "0             None    None    NaN      NaN      NaN        NaN      NaN   \n",
       "1       John  None       M   55.0     45.0     56.0       87.0     21.0   \n",
       "2     Suresh  None       M   75.0     96.0     78.0       64.0     90.0   \n",
       "3     Ramesh  None       M   25.0     54.0     89.0       76.0     95.0   \n",
       "4    Jessica  None       F   78.0     96.0     86.0       63.0     54.0   \n",
       "5   Jennifer  None       F   58.0     96.0     78.0       46.0     96.0   \n",
       "6       Annu  None       F   45.0     87.0     52.0       89.0     55.0   \n",
       "7      pooja  None       F   55.0     64.0     61.0       58.0     75.0   \n",
       "8     Ritesh  None       M   54.0     76.0     87.0       56.0     25.0   \n",
       "9      Farha  None       F   55.0     63.0     89.0       75.0     78.0   \n",
       "10    Mukesh  None       M   96.0     46.0     77.0       83.0     58.0   \n",
       "\n",
       "    History  civics  Economics  \n",
       "0       NaN     NaN        NaN  \n",
       "1      52.0    89.0       65.0  \n",
       "2      61.0    58.0        2.0  \n",
       "3      87.0    56.0       74.0  \n",
       "4      89.0    75.0       45.0  \n",
       "5      77.0    83.0       53.0  \n",
       "6      89.0    87.0       52.0  \n",
       "7      58.0    64.0       61.0  \n",
       "8      56.0    76.0       87.0  \n",
       "9      75.0    63.0       89.0  \n",
       "10     83.0    46.0       77.0  "
      ]
     },
     "execution_count": 25,
     "metadata": {},
     "output_type": "execute_result"
    }
   ],
   "source": [
    "df"
   ]
  },
  {
   "cell_type": "code",
   "execution_count": 27,
   "metadata": {},
   "outputs": [
    {
     "data": {
      "text/plain": [
       "Name          0\n",
       "DOB          11\n",
       "Geneder       1\n",
       "Maths         1\n",
       "English       1\n",
       "physics       1\n",
       "chemistry     1\n",
       "biology       1\n",
       "History       1\n",
       "civics        1\n",
       "Economics     1\n",
       "dtype: int64"
      ]
     },
     "execution_count": 27,
     "metadata": {},
     "output_type": "execute_result"
    }
   ],
   "source": [
    "df.isnull().sum()"
   ]
  },
  {
   "cell_type": "code",
   "execution_count": 29,
   "metadata": {},
   "outputs": [],
   "source": [
    "import numpy as np\n",
    "df_marks=df.replace(np.NaN,0)"
   ]
  },
  {
   "cell_type": "code",
   "execution_count": 30,
   "metadata": {},
   "outputs": [
    {
     "data": {
      "text/html": [
       "<div>\n",
       "<style scoped>\n",
       "    .dataframe tbody tr th:only-of-type {\n",
       "        vertical-align: middle;\n",
       "    }\n",
       "\n",
       "    .dataframe tbody tr th {\n",
       "        vertical-align: top;\n",
       "    }\n",
       "\n",
       "    .dataframe thead th {\n",
       "        text-align: right;\n",
       "    }\n",
       "</style>\n",
       "<table border=\"1\" class=\"dataframe\">\n",
       "  <thead>\n",
       "    <tr style=\"text-align: right;\">\n",
       "      <th></th>\n",
       "      <th>Name</th>\n",
       "      <th>DOB</th>\n",
       "      <th>Geneder</th>\n",
       "      <th>Maths</th>\n",
       "      <th>English</th>\n",
       "      <th>physics</th>\n",
       "      <th>chemistry</th>\n",
       "      <th>biology</th>\n",
       "      <th>History</th>\n",
       "      <th>civics</th>\n",
       "      <th>Economics</th>\n",
       "    </tr>\n",
       "  </thead>\n",
       "  <tbody>\n",
       "    <tr>\n",
       "      <th>0</th>\n",
       "      <td></td>\n",
       "      <td>0</td>\n",
       "      <td>0</td>\n",
       "      <td>0.0</td>\n",
       "      <td>0.0</td>\n",
       "      <td>0.0</td>\n",
       "      <td>0.0</td>\n",
       "      <td>0.0</td>\n",
       "      <td>0.0</td>\n",
       "      <td>0.0</td>\n",
       "      <td>0.0</td>\n",
       "    </tr>\n",
       "    <tr>\n",
       "      <th>1</th>\n",
       "      <td>John</td>\n",
       "      <td>0</td>\n",
       "      <td>M</td>\n",
       "      <td>55.0</td>\n",
       "      <td>45.0</td>\n",
       "      <td>56.0</td>\n",
       "      <td>87.0</td>\n",
       "      <td>21.0</td>\n",
       "      <td>52.0</td>\n",
       "      <td>89.0</td>\n",
       "      <td>65.0</td>\n",
       "    </tr>\n",
       "    <tr>\n",
       "      <th>2</th>\n",
       "      <td>Suresh</td>\n",
       "      <td>0</td>\n",
       "      <td>M</td>\n",
       "      <td>75.0</td>\n",
       "      <td>96.0</td>\n",
       "      <td>78.0</td>\n",
       "      <td>64.0</td>\n",
       "      <td>90.0</td>\n",
       "      <td>61.0</td>\n",
       "      <td>58.0</td>\n",
       "      <td>2.0</td>\n",
       "    </tr>\n",
       "    <tr>\n",
       "      <th>3</th>\n",
       "      <td>Ramesh</td>\n",
       "      <td>0</td>\n",
       "      <td>M</td>\n",
       "      <td>25.0</td>\n",
       "      <td>54.0</td>\n",
       "      <td>89.0</td>\n",
       "      <td>76.0</td>\n",
       "      <td>95.0</td>\n",
       "      <td>87.0</td>\n",
       "      <td>56.0</td>\n",
       "      <td>74.0</td>\n",
       "    </tr>\n",
       "    <tr>\n",
       "      <th>4</th>\n",
       "      <td>Jessica</td>\n",
       "      <td>0</td>\n",
       "      <td>F</td>\n",
       "      <td>78.0</td>\n",
       "      <td>96.0</td>\n",
       "      <td>86.0</td>\n",
       "      <td>63.0</td>\n",
       "      <td>54.0</td>\n",
       "      <td>89.0</td>\n",
       "      <td>75.0</td>\n",
       "      <td>45.0</td>\n",
       "    </tr>\n",
       "    <tr>\n",
       "      <th>5</th>\n",
       "      <td>Jennifer</td>\n",
       "      <td>0</td>\n",
       "      <td>F</td>\n",
       "      <td>58.0</td>\n",
       "      <td>96.0</td>\n",
       "      <td>78.0</td>\n",
       "      <td>46.0</td>\n",
       "      <td>96.0</td>\n",
       "      <td>77.0</td>\n",
       "      <td>83.0</td>\n",
       "      <td>53.0</td>\n",
       "    </tr>\n",
       "    <tr>\n",
       "      <th>6</th>\n",
       "      <td>Annu</td>\n",
       "      <td>0</td>\n",
       "      <td>F</td>\n",
       "      <td>45.0</td>\n",
       "      <td>87.0</td>\n",
       "      <td>52.0</td>\n",
       "      <td>89.0</td>\n",
       "      <td>55.0</td>\n",
       "      <td>89.0</td>\n",
       "      <td>87.0</td>\n",
       "      <td>52.0</td>\n",
       "    </tr>\n",
       "    <tr>\n",
       "      <th>7</th>\n",
       "      <td>pooja</td>\n",
       "      <td>0</td>\n",
       "      <td>F</td>\n",
       "      <td>55.0</td>\n",
       "      <td>64.0</td>\n",
       "      <td>61.0</td>\n",
       "      <td>58.0</td>\n",
       "      <td>75.0</td>\n",
       "      <td>58.0</td>\n",
       "      <td>64.0</td>\n",
       "      <td>61.0</td>\n",
       "    </tr>\n",
       "    <tr>\n",
       "      <th>8</th>\n",
       "      <td>Ritesh</td>\n",
       "      <td>0</td>\n",
       "      <td>M</td>\n",
       "      <td>54.0</td>\n",
       "      <td>76.0</td>\n",
       "      <td>87.0</td>\n",
       "      <td>56.0</td>\n",
       "      <td>25.0</td>\n",
       "      <td>56.0</td>\n",
       "      <td>76.0</td>\n",
       "      <td>87.0</td>\n",
       "    </tr>\n",
       "    <tr>\n",
       "      <th>9</th>\n",
       "      <td>Farha</td>\n",
       "      <td>0</td>\n",
       "      <td>F</td>\n",
       "      <td>55.0</td>\n",
       "      <td>63.0</td>\n",
       "      <td>89.0</td>\n",
       "      <td>75.0</td>\n",
       "      <td>78.0</td>\n",
       "      <td>75.0</td>\n",
       "      <td>63.0</td>\n",
       "      <td>89.0</td>\n",
       "    </tr>\n",
       "    <tr>\n",
       "      <th>10</th>\n",
       "      <td>Mukesh</td>\n",
       "      <td>0</td>\n",
       "      <td>M</td>\n",
       "      <td>96.0</td>\n",
       "      <td>46.0</td>\n",
       "      <td>77.0</td>\n",
       "      <td>83.0</td>\n",
       "      <td>58.0</td>\n",
       "      <td>83.0</td>\n",
       "      <td>46.0</td>\n",
       "      <td>77.0</td>\n",
       "    </tr>\n",
       "  </tbody>\n",
       "</table>\n",
       "</div>"
      ],
      "text/plain": [
       "        Name  DOB Geneder  Maths  English  physics  chemistry  biology  \\\n",
       "0               0       0    0.0      0.0      0.0        0.0      0.0   \n",
       "1       John    0       M   55.0     45.0     56.0       87.0     21.0   \n",
       "2     Suresh    0       M   75.0     96.0     78.0       64.0     90.0   \n",
       "3     Ramesh    0       M   25.0     54.0     89.0       76.0     95.0   \n",
       "4    Jessica    0       F   78.0     96.0     86.0       63.0     54.0   \n",
       "5   Jennifer    0       F   58.0     96.0     78.0       46.0     96.0   \n",
       "6       Annu    0       F   45.0     87.0     52.0       89.0     55.0   \n",
       "7      pooja    0       F   55.0     64.0     61.0       58.0     75.0   \n",
       "8     Ritesh    0       M   54.0     76.0     87.0       56.0     25.0   \n",
       "9      Farha    0       F   55.0     63.0     89.0       75.0     78.0   \n",
       "10    Mukesh    0       M   96.0     46.0     77.0       83.0     58.0   \n",
       "\n",
       "    History  civics  Economics  \n",
       "0       0.0     0.0        0.0  \n",
       "1      52.0    89.0       65.0  \n",
       "2      61.0    58.0        2.0  \n",
       "3      87.0    56.0       74.0  \n",
       "4      89.0    75.0       45.0  \n",
       "5      77.0    83.0       53.0  \n",
       "6      89.0    87.0       52.0  \n",
       "7      58.0    64.0       61.0  \n",
       "8      56.0    76.0       87.0  \n",
       "9      75.0    63.0       89.0  \n",
       "10     83.0    46.0       77.0  "
      ]
     },
     "execution_count": 30,
     "metadata": {},
     "output_type": "execute_result"
    }
   ],
   "source": [
    "df_marks"
   ]
  },
  {
   "cell_type": "code",
   "execution_count": 37,
   "metadata": {},
   "outputs": [],
   "source": [
    "df_marks=df.drop(\"DOB\",axis=1)"
   ]
  },
  {
   "cell_type": "code",
   "execution_count": 38,
   "metadata": {},
   "outputs": [
    {
     "data": {
      "text/html": [
       "<div>\n",
       "<style scoped>\n",
       "    .dataframe tbody tr th:only-of-type {\n",
       "        vertical-align: middle;\n",
       "    }\n",
       "\n",
       "    .dataframe tbody tr th {\n",
       "        vertical-align: top;\n",
       "    }\n",
       "\n",
       "    .dataframe thead th {\n",
       "        text-align: right;\n",
       "    }\n",
       "</style>\n",
       "<table border=\"1\" class=\"dataframe\">\n",
       "  <thead>\n",
       "    <tr style=\"text-align: right;\">\n",
       "      <th></th>\n",
       "      <th>Maths</th>\n",
       "      <th>English</th>\n",
       "      <th>physics</th>\n",
       "      <th>chemistry</th>\n",
       "      <th>biology</th>\n",
       "      <th>History</th>\n",
       "      <th>civics</th>\n",
       "      <th>Economics</th>\n",
       "    </tr>\n",
       "  </thead>\n",
       "  <tbody>\n",
       "    <tr>\n",
       "      <th>Maths</th>\n",
       "      <td>1.000000</td>\n",
       "      <td>0.113354</td>\n",
       "      <td>0.076751</td>\n",
       "      <td>-0.064074</td>\n",
       "      <td>-0.146598</td>\n",
       "      <td>0.000312</td>\n",
       "      <td>-0.320846</td>\n",
       "      <td>-0.274629</td>\n",
       "    </tr>\n",
       "    <tr>\n",
       "      <th>English</th>\n",
       "      <td>0.113354</td>\n",
       "      <td>1.000000</td>\n",
       "      <td>0.117192</td>\n",
       "      <td>-0.562608</td>\n",
       "      <td>0.279638</td>\n",
       "      <td>0.191851</td>\n",
       "      <td>0.334082</td>\n",
       "      <td>-0.643266</td>\n",
       "    </tr>\n",
       "    <tr>\n",
       "      <th>physics</th>\n",
       "      <td>0.076751</td>\n",
       "      <td>0.117192</td>\n",
       "      <td>1.000000</td>\n",
       "      <td>-0.409680</td>\n",
       "      <td>0.318032</td>\n",
       "      <td>0.235390</td>\n",
       "      <td>-0.482710</td>\n",
       "      <td>0.210908</td>\n",
       "    </tr>\n",
       "    <tr>\n",
       "      <th>chemistry</th>\n",
       "      <td>-0.064074</td>\n",
       "      <td>-0.562608</td>\n",
       "      <td>-0.409680</td>\n",
       "      <td>1.000000</td>\n",
       "      <td>-0.330844</td>\n",
       "      <td>0.237577</td>\n",
       "      <td>-0.038775</td>\n",
       "      <td>0.186705</td>\n",
       "    </tr>\n",
       "    <tr>\n",
       "      <th>biology</th>\n",
       "      <td>-0.146598</td>\n",
       "      <td>0.279638</td>\n",
       "      <td>0.318032</td>\n",
       "      <td>-0.330844</td>\n",
       "      <td>1.000000</td>\n",
       "      <td>0.370531</td>\n",
       "      <td>-0.456131</td>\n",
       "      <td>-0.330060</td>\n",
       "    </tr>\n",
       "    <tr>\n",
       "      <th>History</th>\n",
       "      <td>0.000312</td>\n",
       "      <td>0.191851</td>\n",
       "      <td>0.235390</td>\n",
       "      <td>0.237577</td>\n",
       "      <td>0.370531</td>\n",
       "      <td>1.000000</td>\n",
       "      <td>-0.164953</td>\n",
       "      <td>0.043905</td>\n",
       "    </tr>\n",
       "    <tr>\n",
       "      <th>civics</th>\n",
       "      <td>-0.320846</td>\n",
       "      <td>0.334082</td>\n",
       "      <td>-0.482710</td>\n",
       "      <td>-0.038775</td>\n",
       "      <td>-0.456131</td>\n",
       "      <td>-0.164953</td>\n",
       "      <td>1.000000</td>\n",
       "      <td>-0.048686</td>\n",
       "    </tr>\n",
       "    <tr>\n",
       "      <th>Economics</th>\n",
       "      <td>-0.274629</td>\n",
       "      <td>-0.643266</td>\n",
       "      <td>0.210908</td>\n",
       "      <td>0.186705</td>\n",
       "      <td>-0.330060</td>\n",
       "      <td>0.043905</td>\n",
       "      <td>-0.048686</td>\n",
       "      <td>1.000000</td>\n",
       "    </tr>\n",
       "  </tbody>\n",
       "</table>\n",
       "</div>"
      ],
      "text/plain": [
       "              Maths   English   physics  chemistry   biology   History  \\\n",
       "Maths      1.000000  0.113354  0.076751  -0.064074 -0.146598  0.000312   \n",
       "English    0.113354  1.000000  0.117192  -0.562608  0.279638  0.191851   \n",
       "physics    0.076751  0.117192  1.000000  -0.409680  0.318032  0.235390   \n",
       "chemistry -0.064074 -0.562608 -0.409680   1.000000 -0.330844  0.237577   \n",
       "biology   -0.146598  0.279638  0.318032  -0.330844  1.000000  0.370531   \n",
       "History    0.000312  0.191851  0.235390   0.237577  0.370531  1.000000   \n",
       "civics    -0.320846  0.334082 -0.482710  -0.038775 -0.456131 -0.164953   \n",
       "Economics -0.274629 -0.643266  0.210908   0.186705 -0.330060  0.043905   \n",
       "\n",
       "             civics  Economics  \n",
       "Maths     -0.320846  -0.274629  \n",
       "English    0.334082  -0.643266  \n",
       "physics   -0.482710   0.210908  \n",
       "chemistry -0.038775   0.186705  \n",
       "biology   -0.456131  -0.330060  \n",
       "History   -0.164953   0.043905  \n",
       "civics     1.000000  -0.048686  \n",
       "Economics -0.048686   1.000000  "
      ]
     },
     "execution_count": 38,
     "metadata": {},
     "output_type": "execute_result"
    }
   ],
   "source": [
    "df_marks.corr()"
   ]
  },
  {
   "cell_type": "code",
   "execution_count": 39,
   "metadata": {},
   "outputs": [
    {
     "data": {
      "text/plain": [
       "<matplotlib.axes._subplots.AxesSubplot at 0x228f6eb5278>"
      ]
     },
     "execution_count": 39,
     "metadata": {},
     "output_type": "execute_result"
    },
    {
     "data": {
      "image/png": "[encoded data removed]",
      "text/plain": [
       "<Figure size 432x288 with 2 Axes>"
      ]
     },
     "metadata": {
      "needs_background": "light"
     },
     "output_type": "display_data"
    }
   ],
   "source": [
    "import seaborn as sns\n",
    "sns.heatmap(df_marks.corr())"
   ]
  },
  {
   "cell_type": "code",
   "execution_count": 46,
   "metadata": {},
   "outputs": [
    {
     "data": {
      "text/plain": [
       "(array([1., 0., 1., 0., 5., 0., 0., 2., 0., 1.]),\n",
       " array([25. , 32.1, 39.2, 46.3, 53.4, 60.5, 67.6, 74.7, 81.8, 88.9, 96. ]),\n",
       " <a list of 10 Patch objects>)"
      ]
     },
     "execution_count": 46,
     "metadata": {},
     "output_type": "execute_result"
    },
    {
     "data": {
      "image/png": "[encoded data removed]",
      "text/plain": [
       "<Figure size 432x288 with 1 Axes>"
      ]
     },
     "metadata": {
      "needs_background": "light"
     },
     "output_type": "display_data"
    }
   ],
   "source": [
    "import matplotlib.pyplot as plt\n",
    "plt.hist(df[\"Maths\"],bins=10)"
   ]
  },
  {
   "cell_type": "code",
   "execution_count": 47,
   "metadata": {},
   "outputs": [
    {
     "data": {
      "text/plain": [
       "(array([2., 1., 0., 2., 0., 0., 1., 0., 1., 3.]),\n",
       " array([45. , 50.1, 55.2, 60.3, 65.4, 70.5, 75.6, 80.7, 85.8, 90.9, 96. ]),\n",
       " <a list of 10 Patch objects>)"
      ]
     },
     "execution_count": 47,
     "metadata": {},
     "output_type": "execute_result"
    },
    {
     "data": {
      "image/png": "[encoded data removed]",
      "text/plain": [
       "<Figure size 432x288 with 1 Axes>"
      ]
     },
     "metadata": {
      "needs_background": "light"
     },
     "output_type": "display_data"
    }
   ],
   "source": [
    "import matplotlib.pyplot as plt\n",
    "plt.hist(df[\"English\"],bins=10)"
   ]
  },
  {
   "cell_type": "code",
   "execution_count": 48,
   "metadata": {},
   "outputs": [
    {
     "data": {
      "text/plain": [
       "(array([1., 1., 1., 0., 0., 0., 1., 2., 0., 4.]),\n",
       " array([52. , 55.7, 59.4, 63.1, 66.8, 70.5, 74.2, 77.9, 81.6, 85.3, 89. ]),\n",
       " <a list of 10 Patch objects>)"
      ]
     },
     "execution_count": 48,
     "metadata": {},
     "output_type": "execute_result"
    },
    {
     "data": {
      "image/png": "[encoded data removed]",
      "text/plain": [
       "<Figure size 432x288 with 1 Axes>"
      ]
     },
     "metadata": {
      "needs_background": "light"
     },
     "output_type": "display_data"
    }
   ],
   "source": [
    "import matplotlib.pyplot as plt\n",
    "plt.hist(df[\"physics\"],bins=10)"
   ]
  },
  {
   "cell_type": "code",
   "execution_count": 49,
   "metadata": {},
   "outputs": [
    {
     "data": {
      "text/plain": [
       "(array([1., 0., 2., 1., 1., 0., 2., 0., 1., 2.]),\n",
       " array([46. , 50.3, 54.6, 58.9, 63.2, 67.5, 71.8, 76.1, 80.4, 84.7, 89. ]),\n",
       " <a list of 10 Patch objects>)"
      ]
     },
     "execution_count": 49,
     "metadata": {},
     "output_type": "execute_result"
    },
    {
     "data": {
      "image/png": "[encoded data removed]",
      "text/plain": [
       "<Figure size 432x288 with 1 Axes>"
      ]
     },
     "metadata": {
      "needs_background": "light"
     },
     "output_type": "display_data"
    }
   ],
   "source": [
    "import matplotlib.pyplot as plt\n",
    "plt.hist(df[\"chemistry\"],bins=10)"
   ]
  },
  {
   "cell_type": "code",
   "execution_count": 51,
   "metadata": {},
   "outputs": [
    {
     "data": {
      "text/plain": [
       "(array([2., 0., 0., 0., 3., 0., 0., 2., 0., 3.]),\n",
       " array([21. , 28.5, 36. , 43.5, 51. , 58.5, 66. , 73.5, 81. , 88.5, 96. ]),\n",
       " <a list of 10 Patch objects>)"
      ]
     },
     "execution_count": 51,
     "metadata": {},
     "output_type": "execute_result"
    },
    {
     "data": {
      "image/png": "[encoded data removed]",
      "text/plain": [
       "<Figure size 432x288 with 1 Axes>"
      ]
     },
     "metadata": {
      "needs_background": "light"
     },
     "output_type": "display_data"
    }
   ],
   "source": [
    "import matplotlib.pyplot as plt\n",
    "plt.hist(df[\"biology\"],bins=10)"
   ]
  },
  {
   "cell_type": "code",
   "execution_count": 52,
   "metadata": {},
   "outputs": [
    {
     "data": {
      "text/plain": [
       "(array([1., 2., 1., 0., 0., 0., 2., 0., 1., 3.]),\n",
       " array([52. , 55.7, 59.4, 63.1, 66.8, 70.5, 74.2, 77.9, 81.6, 85.3, 89. ]),\n",
       " <a list of 10 Patch objects>)"
      ]
     },
     "execution_count": 52,
     "metadata": {},
     "output_type": "execute_result"
    },
    {
     "data": {
      "image/png": "[encoded data removed]",
      "text/plain": [
       "<Figure size 432x288 with 1 Axes>"
      ]
     },
     "metadata": {
      "needs_background": "light"
     },
     "output_type": "display_data"
    }
   ],
   "source": [
    "import matplotlib.pyplot as plt\n",
    "plt.hist(df[\"History\"],bins=10)"
   ]
  },
  {
   "cell_type": "code",
   "execution_count": 53,
   "metadata": {},
   "outputs": [
    {
     "data": {
      "text/plain": [
       "(array([1., 0., 2., 1., 1., 0., 2., 0., 1., 2.]),\n",
       " array([46. , 50.3, 54.6, 58.9, 63.2, 67.5, 71.8, 76.1, 80.4, 84.7, 89. ]),\n",
       " <a list of 10 Patch objects>)"
      ]
     },
     "execution_count": 53,
     "metadata": {},
     "output_type": "execute_result"
    },
    {
     "data": {
      "image/png": "[encoded data removed]",
      "text/plain": [
       "<Figure size 432x288 with 1 Axes>"
      ]
     },
     "metadata": {
      "needs_background": "light"
     },
     "output_type": "display_data"
    }
   ],
   "source": [
    "import matplotlib.pyplot as plt\n",
    "plt.hist(df[\"civics\"],bins=10)"
   ]
  },
  {
   "cell_type": "code",
   "execution_count": 55,
   "metadata": {},
   "outputs": [
    {
     "data": {
      "text/plain": [
       "<seaborn.axisgrid.PairGrid at 0x228f7674c18>"
      ]
     },
     "execution_count": 55,
     "metadata": {},
     "output_type": "execute_result"
    },
    {
     "data": {
      "image/png": "[encoded data removed]",
      "text/plain": [
       "<Figure size 1440x1440 with 72 Axes>"
      ]
     },
     "metadata": {
      "needs_background": "light"
     },
     "output_type": "display_data"
    }
   ],
   "source": [
    "sns.pairplot(df_marks)"
   ]
  },
  {
   "cell_type": "code",
   "execution_count": null,
   "metadata": {},
   "outputs": [],
   "source": []
  }
 ],
 "metadata": {
  "kernelspec": {
   "display_name": "Python 3",
   "language": "python",
   "name": "python3"
  },
  "language_info": {
   "codemirror_mode": {
    "name": "ipython",
    "version": 3
   },
   "file_extension": ".py",
   "mimetype": "text/x-python",
   "name": "python",
   "nbconvert_exporter": "python",
   "pygments_lexer": "ipython3",
   "version": "3.7.3"
  }
 },
 "nbformat": 4,
 "nbformat_minor": 2
}
